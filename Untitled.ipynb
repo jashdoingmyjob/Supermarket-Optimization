{
 "cells": [
  {
   "cell_type": "code",
   "execution_count": 10,
   "metadata": {},
   "outputs": [],
   "source": [
    "import csv\n",
    "import argparse\n",
    "import itertools\n",
    "\n",
    "def file_to_list(file):\n",
    "    retail_list = []\n",
    "    with open(file) as f:\n",
    "        reader = csv.reader(f, skipinitialspace=False,delimiter=' ', quoting=csv.QUOTE_NONE)\n",
    "        for row in reader:\n",
    "            retail_list.append(row)\n",
    "\n",
    "    for i in retail_list:\n",
    "        i.remove('')\n",
    "    return retail_list\n",
    "\n",
    "def supermarket_optimization(sigma, file):\n",
    "    comb_freq_dict = dict()\n",
    "\n",
    "    #this just converts the file into a list of lists and removes unnecessary whitespaces\n",
    "    retail_list = file_to_list(file)\n",
    "\n",
    "    #first optimization\n",
    "    new_retail_list = less_than_three(retail_list)\n",
    "\n",
    "    #second optimization\n",
    "    sorted_retail_list = sorted(new_retail_list, key=len)\n",
    "\n",
    "    for x in range(len(sorted_retail_list)):\n",
    "        r = 3 #3 or more sized groups\n",
    "        while r <= len(sorted_retail_list[x]):\n",
    "            comb_list = list(itertools.combinations(sorted_retail_list[x], r))\n",
    "            for i in comb_list:\n",
    "                if i not in comb_freq_dict:\n",
    "                    comb_freq_dict[i] = 1\n",
    "                else:\n",
    "                    comb_freq_dict[i] = comb_freq_dict[i] +1\n",
    "            r = r+1\n",
    "\n",
    "    frequent_items(sigma, comb_freq_dict)\n",
    "\n",
    "\n",
    "# first optimization: get rid of transactions that have less than 3 items.\n",
    "def less_than_three(lst): #works\n",
    "    new_lst = []\n",
    "    for i in lst:\n",
    "        if len(i)>=3:\n",
    "            new_lst.append(i)\n",
    "    return new_lst\n",
    "\n",
    "# this function does the final bit of work and writes results to a file\n",
    "def frequent_items(sig, my_dict):\n",
    "    with open('supermarket_optimization.txt', 'w') as f:\n",
    "        f.write('Item Set Size, co-occurrence frequency, item numbers \\n')\n",
    "        for item, freq in my_dict.items():\n",
    "            if freq >= sig:\n",
    "                f.write(str(len(item))+',' +str(freq)+', '+str(item)+'\\n')"
   ]
  },
  {
   "cell_type": "code",
   "execution_count": 12,
   "metadata": {},
   "outputs": [],
   "source": [
    "supermarket_optimization(2, '/Users/jashvora/Documents/test_retail.dat.txt')"
   ]
  },
  {
   "cell_type": "code",
   "execution_count": null,
   "metadata": {},
   "outputs": [],
   "source": []
  }
 ],
 "metadata": {
  "kernelspec": {
   "display_name": "Python 3",
   "language": "python",
   "name": "python3"
  },
  "language_info": {
   "codemirror_mode": {
    "name": "ipython",
    "version": 3
   },
   "file_extension": ".py",
   "mimetype": "text/x-python",
   "name": "python",
   "nbconvert_exporter": "python",
   "pygments_lexer": "ipython3",
   "version": "3.7.1"
  }
 },
 "nbformat": 4,
 "nbformat_minor": 2
}
